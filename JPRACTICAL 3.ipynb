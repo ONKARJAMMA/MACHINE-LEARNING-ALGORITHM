{
 "cells": [
  {
   "cell_type": "markdown",
   "id": "7382c852-350c-4f0a-b2cf-26d07a93ec8b",
   "metadata": {},
   "source": [
    "# NAME: SANGRAM DALAVE\n",
    "# ROLL NO: 08\n",
    "# PRACTICAL: 3"
   ]
  },
  {
   "cell_type": "code",
   "execution_count": 2,
   "id": "5dd1bb85-69d4-4a14-9357-8a74f8fd84af",
   "metadata": {},
   "outputs": [
    {
     "name": "stdout",
     "output_type": "stream",
     "text": [
      "Wine Dataset:\n",
      "Training set shapes:\n",
      "X_train: (142, 13)\n",
      "y_train: (142,)\n",
      "\n",
      "Testing set shapes:\n",
      "X_test: (36, 13)\n",
      "y_test: (36,)\n"
     ]
    }
   ],
   "source": [
    "from sklearn.datasets import load_wine\n",
    "from sklearn.model_selection import train_test_split\n",
    "\n",
    "# Load the Wine dataset\n",
    "wine = load_wine()\n",
    "X = wine.data\n",
    "y = wine.target\n",
    "\n",
    "# Split the data into training and testing sets (80% training, 20% testing)\n",
    "X_train, X_test, y_train, y_test = train_test_split(X, y, test_size=0.2, random_state=42)\n",
    "\n",
    "# Display the shapes of the resulting sets\n",
    "print(\"Wine Dataset:\")\n",
    "print(\"Training set shapes:\")\n",
    "print(\"X_train:\", X_train.shape)\n",
    "print(\"y_train:\", y_train.shape)\n",
    "print(\"\\nTesting set shapes:\")\n",
    "print(\"X_test:\", X_test.shape)\n",
    "print(\"y_test:\", y_test.shape)\n"
   ]
  }
 ],
 "metadata": {
  "kernelspec": {
   "display_name": "Python 3 (ipykernel)",
   "language": "python",
   "name": "python3"
  },
  "language_info": {
   "codemirror_mode": {
    "name": "ipython",
    "version": 3
   },
   "file_extension": ".py",
   "mimetype": "text/x-python",
   "name": "python",
   "nbconvert_exporter": "python",
   "pygments_lexer": "ipython3",
   "version": "3.12.4"
  }
 },
 "nbformat": 4,
 "nbformat_minor": 5
}
