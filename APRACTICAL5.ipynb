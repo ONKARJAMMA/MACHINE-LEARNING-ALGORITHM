{
 "cells": [
  {
   "cell_type": "markdown",
   "id": "26269de9-c324-4d8f-acbf-c64d2db0a652",
   "metadata": {},
   "source": [
    "# NAME : ANURAGH SLAUNKE\n",
    "# ROLL NO: 11\n",
    "# PRACTICAL:5"
   ]
  },
  {
   "cell_type": "code",
   "execution_count": 2,
   "id": "983e841a-3060-41da-8edf-2a6d5973d8c1",
   "metadata": {},
   "outputs": [
    {
     "name": "stdout",
     "output_type": "stream",
     "text": [
      "Breast Cancer Dataset:\n",
      "Mean Squared Error (MSE): 0.0641\n",
      "R-squared (R2): 0.7271\n",
      "\n",
      "Coefficients:\n",
      "                    Feature  Coefficient\n",
      "0               mean radius     0.197130\n",
      "1              mean texture    -0.002795\n",
      "2            mean perimeter    -0.022776\n",
      "3                 mean area    -0.000329\n",
      "4           mean smoothness     0.411490\n",
      "5          mean compactness     5.001712\n",
      "6            mean concavity    -1.005870\n",
      "7       mean concave points    -4.915704\n",
      "8             mean symmetry     0.338394\n",
      "9    mean fractal dimension    -5.814256\n",
      "10             radius error    -0.432262\n",
      "11            texture error     0.012633\n",
      "12          perimeter error     0.008247\n",
      "13               area error     0.001245\n",
      "14         smoothness error   -18.078509\n",
      "15        compactness error     2.207987\n",
      "16          concavity error     4.273759\n",
      "17     concave points error   -18.158953\n",
      "18           symmetry error     1.194494\n",
      "19  fractal dimension error     3.012037\n",
      "20             worst radius    -0.214439\n",
      "21            worst texture    -0.009617\n",
      "22          worst perimeter     0.008712\n",
      "23               worst area     0.000961\n",
      "24         worst smoothness    -0.132385\n",
      "25        worst compactness    -0.762670\n",
      "26          worst concavity    -0.615743\n",
      "27     worst concave points     1.326198\n",
      "28           worst symmetry    -1.021132\n",
      "29  worst fractal dimension    -1.273638\n"
     ]
    }
   ],
   "source": [
    "import pandas as pd\n",
    "from sklearn.datasets import load_breast_cancer\n",
    "from sklearn.model_selection import train_test_split\n",
    "from sklearn.linear_model import LinearRegression\n",
    "from sklearn.metrics import mean_squared_error, r2_score\n",
    "\n",
    "# Load the Breast Cancer dataset\n",
    "breast_cancer = load_breast_cancer()\n",
    "X = pd.DataFrame(breast_cancer.data, columns=breast_cancer.feature_names)\n",
    "y = breast_cancer.target\n",
    "\n",
    "# Split the data into training and testing sets (80% training, 20% testing)\n",
    "X_train, X_test, y_train, y_test = train_test_split(X, y, test_size=0.2, random_state=42)\n",
    "\n",
    "# Instantiate the Linear Regression model\n",
    "model = LinearRegression()\n",
    "\n",
    "# Train the model on the training set\n",
    "model.fit(X_train, y_train)\n",
    "\n",
    "# Make predictions on the testing set\n",
    "y_pred = model.predict(X_test)\n",
    "\n",
    "# Evaluate the model\n",
    "mse = mean_squared_error(y_test, y_pred)\n",
    "r2 = r2_score(y_test, y_pred)\n",
    "\n",
    "# Display the evaluation metrics\n",
    "print(\"Breast Cancer Dataset:\")\n",
    "print(f\"Mean Squared Error (MSE): {mse:.4f}\")\n",
    "print(f\"R-squared (R2): {r2:.4f}\")\n",
    "\n",
    "# Display the coefficients for each feature\n",
    "coefficients = pd.DataFrame({'Feature': X.columns, 'Coefficient': model.coef_})\n",
    "print(\"\\nCoefficients:\")\n",
    "print(coefficients)\n"
   ]
  }
 ],
 "metadata": {
  "kernelspec": {
   "display_name": "Python 3 (ipykernel)",
   "language": "python",
   "name": "python3"
  },
  "language_info": {
   "codemirror_mode": {
    "name": "ipython",
    "version": 3
   },
   "file_extension": ".py",
   "mimetype": "text/x-python",
   "name": "python",
   "nbconvert_exporter": "python",
   "pygments_lexer": "ipython3",
   "version": "3.12.4"
  }
 },
 "nbformat": 4,
 "nbformat_minor": 5
}
