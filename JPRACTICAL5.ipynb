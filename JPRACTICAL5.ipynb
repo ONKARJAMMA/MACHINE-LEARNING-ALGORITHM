{
 "cells": [
  {
   "cell_type": "markdown",
   "id": "910a07fb-659c-497c-8793-a333e37a183f",
   "metadata": {},
   "source": [
    "# NAME: ONKAR JAMMA\n",
    "# ROLL NO: 21\n",
    "# PRACTICAL: 5"
   ]
  },
  {
   "cell_type": "code",
   "execution_count": 1,
   "id": "fd28ef53-17e1-4b5d-972f-52e6515c8be6",
   "metadata": {},
   "outputs": [
    {
     "name": "stdout",
     "output_type": "stream",
     "text": [
      "Wine Dataset:\n",
      "Mean Squared Error (MSE): 0.0685\n",
      "R-squared (R2): 0.8825\n",
      "\n",
      "Coefficients:\n",
      "                         Feature  Coefficient\n",
      "0                        alcohol    -0.109280\n",
      "1                     malic_acid     0.043350\n",
      "2                            ash    -0.204973\n",
      "3              alcalinity_of_ash     0.044028\n",
      "4                      magnesium     0.000038\n",
      "5                  total_phenols     0.152212\n",
      "6                     flavanoids    -0.353372\n",
      "7           nonflavanoid_phenols    -0.320201\n",
      "8                proanthocyanins     0.017596\n",
      "9                color_intensity     0.076823\n",
      "10                           hue    -0.091345\n",
      "11  od280/od315_of_diluted_wines    -0.281543\n",
      "12                       proline    -0.000697\n"
     ]
    }
   ],
   "source": [
    "import pandas as pd\n",
    "from sklearn.datasets import load_wine\n",
    "from sklearn.model_selection import train_test_split\n",
    "from sklearn.linear_model import LinearRegression\n",
    "from sklearn.metrics import mean_squared_error, r2_score\n",
    "\n",
    "# Load the Wine dataset\n",
    "wine = load_wine()\n",
    "X = pd.DataFrame(wine.data, columns=wine.feature_names)\n",
    "y = wine.target\n",
    "\n",
    "# Split the data into training and testing sets (80% training, 20% testing)\n",
    "X_train, X_test, y_train, y_test = train_test_split(X, y, test_size=0.2, random_state=42)\n",
    "\n",
    "# Instantiate the Linear Regression model\n",
    "model = LinearRegression()\n",
    "\n",
    "# Train the model on the training set\n",
    "model.fit(X_train, y_train)\n",
    "\n",
    "# Make predictions on the testing set\n",
    "y_pred = model.predict(X_test)\n",
    "\n",
    "# Evaluate the model\n",
    "mse = mean_squared_error(y_test, y_pred)\n",
    "r2 = r2_score(y_test, y_pred)\n",
    "\n",
    "# Display the evaluation metrics\n",
    "print(\"Wine Dataset:\")\n",
    "print(f\"Mean Squared Error (MSE): {mse:.4f}\")\n",
    "print(f\"R-squared (R2): {r2:.4f}\")\n",
    "\n",
    "# Display the coefficients for each feature\n",
    "coefficients = pd.DataFrame({'Feature': X.columns, 'Coefficient': model.coef_})\n",
    "print(\"\\nCoefficients:\")\n",
    "print(coefficients)\n"
   ]
  }
 ],
 "metadata": {
  "kernelspec": {
   "display_name": "Python 3 (ipykernel)",
   "language": "python",
   "name": "python3"
  },
  "language_info": {
   "codemirror_mode": {
    "name": "ipython",
    "version": 3
   },
   "file_extension": ".py",
   "mimetype": "text/x-python",
   "name": "python",
   "nbconvert_exporter": "python",
   "pygments_lexer": "ipython3",
   "version": "3.12.4"
  }
 },
 "nbformat": 4,
 "nbformat_minor": 5
}
